{
 "cells": [
  {
   "cell_type": "code",
   "execution_count": 226,
   "id": "9f29b634",
   "metadata": {},
   "outputs": [],
   "source": [
    "import numpy as np\n",
    "import pandas as pd\n",
    "import json\n",
    "import dateutil.parser\n",
    "import random\n",
    "import warnings\n",
    "from sklearn.linear_model import LogisticRegression\n",
    "from sklearn.metrics import confusion_matrix\n",
    "import matplotlib.pyplot as plt\n",
    "warnings.filterwarnings('ignore')"
   ]
  },
  {
   "cell_type": "code",
   "execution_count": 227,
   "id": "c146c73c",
   "metadata": {},
   "outputs": [],
   "source": [
    "##loading book review data\n",
    "book_review = []\n",
    "with open('fantasy_10000.json') as f:\n",
    "    for line in f:\n",
    "        book_review.append(json.loads(line))\n",
    "book_review = pd.DataFrame(book_review)\n",
    "book_review['review_len'] = book_review['review_text'].str.len()\n"
   ]
  },
  {
   "cell_type": "code",
   "execution_count": 136,
   "id": "67825714",
   "metadata": {},
   "outputs": [
    {
     "name": "stdout",
     "output_type": "stream",
     "text": [
      "theta 0 = 3.6856813550169507 theta 1 = 6.873716748962792e-05\n",
      "MSE = 1.5522086622355378\n"
     ]
    }
   ],
   "source": [
    "##Q2 Train a simple predictor that estimates rating from review length,\n",
    "X = np.array(book_review['review_len'].to_list())\n",
    "Y = np.array(pd.to_numeric(book_review['rating']).to_list())\n",
    "A = np.vstack([X, np.ones(len(X))]).T\n",
    "theta,residuals,rank,s = numpy.linalg.lstsq(A, Y)\n",
    "print(\"theta 0 = \" + str(theta[1]) + \" theta 1 = \" + str(theta[0]))\n",
    "\n",
    "Y_trained = theta[0] * X + theta[1]\n",
    "mse = ((Y - Y_trained)**2).mean()\n",
    "print(\"MSE = \" + str(mse))"
   ]
  },
  {
   "cell_type": "code",
   "execution_count": 139,
   "id": "96c692bd",
   "metadata": {},
   "outputs": [
    {
     "name": "stdout",
     "output_type": "stream",
     "text": [
      "Feature vector for first sample:\n",
      "[1.000e+00 2.086e+03 0.000e+00 0.000e+00 0.000e+00 0.000e+00 0.000e+00\n",
      " 0.000e+00 1.000e+00 0.000e+00 0.000e+00 0.000e+00 0.000e+00 0.000e+00\n",
      " 0.000e+00 0.000e+00 0.000e+00 0.000e+00 0.000e+00 0.000e+00 1.000e+00]\n",
      "Feature vector for second sample:\n",
      "[1.000e+00 1.521e+03 0.000e+00 0.000e+00 1.000e+00 0.000e+00 0.000e+00\n",
      " 0.000e+00 0.000e+00 0.000e+00 0.000e+00 0.000e+00 0.000e+00 0.000e+00\n",
      " 0.000e+00 0.000e+00 0.000e+00 1.000e+00 0.000e+00 0.000e+00 0.000e+00]\n"
     ]
    }
   ],
   "source": [
    "##Q3 Extend your model to include (in addition to the length) features based on the time of the review\n",
    "\n",
    "\n",
    "time = book_review['date_added'].str.split(\" \",expand = True)\n",
    "year = np.array(pd.to_numeric(time[5]))\n",
    "weekday = np.array(time[0])\n",
    "\n",
    "weekday_dict = {'Mon':1, 'Tue':2, 'Wed':3, 'Thu':4, 'Fri':5, 'Sat':6, 'Sun':7}\n",
    "weekday = [weekday_dict[day] for day in weekday]\n",
    "weekday = np.array(weekday)\n",
    "weekday_onehot = np.zeros((weekday.size, weekday.max()))\n",
    "weekday_onehot[np.arange(weekday.size),weekday-1] = 1\n",
    "\n",
    "year_onehot = np.zeros((year.size, 12))\n",
    "year_onehot[np.arange(year.size),year-2006] = 1\n",
    "\n",
    "year_weekday_onehot = np.hstack([weekday_onehot,year_onehot])\n",
    "\n",
    "A_2 = np.vstack([X,year_weekday_onehot.T]).T\n",
    "A_2 = np.vstack([np.ones(len(X)),A_2.T]).T\n",
    "\n",
    "## on-hot vector for first example Sun Jul 30 07:44:10 -0700 2017. Monday as the first day and 2006 as the first year\n",
    "\n",
    "print(\"Feature vector for first sample:\")\n",
    "print(A_2[0])\n",
    "\n",
    "## on-hot vector for second example Wed Sep 24 09:29:29 -0700 2014\n",
    "print(\"Feature vector for second sample:\")\n",
    "print(A_2[1])\n",
    "\n",
    "\n"
   ]
  },
  {
   "cell_type": "code",
   "execution_count": 140,
   "id": "a04e9254",
   "metadata": {},
   "outputs": [
    {
     "name": "stdout",
     "output_type": "stream",
     "text": [
      "MSE for direct features = 1.5367740498705236\n",
      "MSE for one-hot features = 1.5123578656428203\n"
     ]
    }
   ],
   "source": [
    "##Q4 use the weekday and year values directly as features\n",
    "\n",
    "X = np.array(book_review['review_len'].to_list())\n",
    "Y = np.array(pd.to_numeric(book_review['rating']).to_list())\n",
    "A = np.vstack([X,year])\n",
    "A = np.vstack([A,np.array(weekday)])\n",
    "A = np.vstack([A, np.ones(len(X))]).T\n",
    "\n",
    "theta,residuals,rank,s = numpy.linalg.lstsq(A, Y)\n",
    "#print(theta)\n",
    "\n",
    "Y_trained = theta[0] * X + theta[1] * year + theta[2] * np.array(weekday) + theta[3]\n",
    "mse = ((Y - Y_trained)**2).mean()\n",
    "print(\"MSE for direct features = \" + str(mse))\n",
    "\n",
    "\n",
    "##Q4 use the one-hot encoding from \n",
    "A_2 = np.vstack([X,year_weekday_onehot.T]).T\n",
    "A_2 = np.vstack([np.ones(len(X)),A_2.T]).T\n",
    "\n",
    "theta_,residuals_,rank_,s_ = numpy.linalg.lstsq(A_2, Y)\n",
    "#print(theta_)\n",
    "\n",
    "Y_trained_ =  A_2.dot(theta_)\n",
    "\n",
    "mse_ = ((Y - Y_trained_)**2).mean()\n",
    "print(\"MSE for one-hot features = \" + str(mse_))"
   ]
  },
  {
   "cell_type": "code",
   "execution_count": 142,
   "id": "27868b06",
   "metadata": {},
   "outputs": [
    {
     "name": "stdout",
     "output_type": "stream",
     "text": [
      "MSE on train data for direct features = 1.5055003684666903\n",
      "MSE on test data for direct features = 1.5691974829672797\n",
      "MSE on train data for one-hot features = 1.4753003933065094\n",
      "MSE on test data for one-hot features = 1.5534598885483288\n"
     ]
    }
   ],
   "source": [
    "##Q6 part 1.\n",
    "data = np.vstack([A.T,Y]).T\n",
    "indices = [i for i in range(0,len(Y))]\n",
    "random.shuffle(indices)\n",
    "test_indices = indices[0:int(len(Y)/2)]\n",
    "train_indices = indices[int(len(Y)/2):]\n",
    "\n",
    "train_data = data[train_indices]\n",
    "test_data = data[test_indices]\n",
    "\n",
    "\n",
    "theta,residuals,rank,s = numpy.linalg.lstsq(train_data[:,[0,1,2,3]], train_data[:,4])\n",
    "#print(theta)\n",
    "\n",
    "Y_train = theta[0] * train_data[:,0] + theta[1] * train_data[:,1] + theta[2] * train_data[:,2] + theta[3]\n",
    "mse_train = ((train_data[:,4] - Y_train)**2).mean()\n",
    "print(\"MSE on train data for direct features = \" + str(mse_train))\n",
    "\n",
    "Y_test = theta[0] * test_data[:,0] + theta[1] * test_data[:,1] + theta[2] * test_data[:,2] + theta[3]\n",
    "mse_test = ((test_data[:,4] - Y_test)**2).mean()\n",
    "print(\"MSE on test data for direct features = \" + str(mse_test))\n",
    "\n",
    "\n",
    "\n",
    "##Q6 part 2.\n",
    "\n",
    "data_2 = np.vstack([A_2.T,Y]).T\n",
    "indices = [i for i in range(0,len(Y))]\n",
    "random.shuffle(indices)\n",
    "test_indices = indices[0:int(len(Y)/2)]\n",
    "train_indices = indices[int(len(Y)/2):]\n",
    "\n",
    "train_data = data_2[train_indices]\n",
    "test_data = data_2[test_indices]\n",
    "\n",
    "theta,residuals,rank,s = numpy.linalg.lstsq(train_data[:,0:21], train_data[:,21])\n",
    "#print(theta)\n",
    "\n",
    "Y_train = train_data[:,0:21].dot(theta)\n",
    "mse_train = ((train_data[:,21] - Y_train)**2).mean()\n",
    "print(\"MSE on train data for one-hot features = \" + str(mse_train))\n",
    "\n",
    "Y_test = test_data[:,0:21].dot(theta)\n",
    "mse_test = ((test_data[:,21] - Y_test)**2).mean()\n",
    "print(\"MSE on test data for one-hot features = \" + str(mse_test))\n",
    "\n",
    "\n",
    "\n",
    "\n",
    "\n",
    "\n"
   ]
  },
  {
   "cell_type": "code",
   "execution_count": 228,
   "id": "57ca064f",
   "metadata": {},
   "outputs": [],
   "source": [
    "##loading beer review data\n",
    "\n",
    "beer_review = []\n",
    "with open('beer_50000.json') as f:\n",
    "    for line in f:\n",
    "        beer_review.append(eval(line))\n",
    "beer_review = pd.DataFrame(beer_review)\n"
   ]
  },
  {
   "cell_type": "code",
   "execution_count": 224,
   "id": "dd322cb0",
   "metadata": {},
   "outputs": [
    {
     "name": "stdout",
     "output_type": "stream",
     "text": [
      "TN =  10503\n",
      "FP =  5885\n",
      "FN =  19411\n",
      "TP =  14201\n",
      "BER =  0.4683031525957275\n"
     ]
    }
   ],
   "source": [
    "##Q7 classification\n",
    "Y = np.array(beer_review['review/overall'])\n",
    "X = np.array(beer_review['review/text'].str.len())\n",
    "X = X.reshape(-1, 1)\n",
    "binarized_score = np.array([i>=4 for i in Y])\n",
    "\n",
    "model = LogisticRegression(class_weight='balanced')\n",
    "model.fit(X, binarized_score)\n",
    "predicted = model.predict(X)\n",
    "cm=confusion_matrix(binarized_score, predicted)\n",
    "TP = cm[1,1]\n",
    "TN = cm[0,0]\n",
    "FN = cm[1,0]\n",
    "FP = cm[0,1]\n",
    "print(\"TN = \", str(TN))\n",
    "print(\"FP = \", str(FP))\n",
    "print(\"FN = \", str(FN))\n",
    "print(\"TP = \", str(TP))\n",
    "print(\"BER = \", str(1 - 0.5*(TP/(TP+FN) + TN/(TN+FP))))"
   ]
  },
  {
   "cell_type": "code",
   "execution_count": 225,
   "id": "ac821b73",
   "metadata": {},
   "outputs": [
    {
     "data": {
      "image/png": "[encoded data removed]",
      "text/plain": [
       "<Figure size 720x432 with 1 Axes>"
      ]
     },
     "metadata": {
      "needs_background": "light"
     },
     "output_type": "display_data"
    }
   ],
   "source": [
    "##Q8 reporting precision@K\n",
    "\n",
    "probabilites = model.predict_proba(X)\n",
    "both_Y = np.vstack([probabilites.T,Y]).T\n",
    "both_Y_sorted = both_Y[both_Y[:, 1].argsort()][::-1]\n",
    "#print(both_Y_sorted[10000])\n",
    "\n",
    "relevant = 0\n",
    "recommended = 0\n",
    "precision_k = [0 for i in range(10000)]\n",
    "for i in range(0,10000):\n",
    "    recommended += 1\n",
    "    if both_Y_sorted[i,2] >= 4:\n",
    "        relevant += 1\n",
    "    precision_k[i] = relevant/recommended\n",
    "#print(precision_k[0:20])\n",
    "\n",
    "plt.figure(figsize = (10,6))\n",
    "plt.scatter([i for i in range(10000)], precision_k)\n",
    "plt.xlabel(\"K\")\n",
    "plt.ylabel(\"Precision@K\")\n",
    "plt.show()\n",
    "    \n",
    "    "
   ]
  },
  {
   "cell_type": "code",
   "execution_count": 221,
   "id": "a5793edd",
   "metadata": {},
   "outputs": [
    {
     "name": "stdout",
     "output_type": "stream",
     "text": [
      "Precision@K for K = 1:  1.0\n",
      "Precision@K for K = 100:  0.75\n",
      "Precision@K for K = 10000:  0.6195\n"
     ]
    },
    {
     "data": {
      "image/png": "[encoded data removed]",
      "text/plain": [
       "<Figure size 720x432 with 1 Axes>"
      ]
     },
     "metadata": {
      "needs_background": "light"
     },
     "output_type": "display_data"
    }
   ],
   "source": [
    "##Q9 precision@K considering negative\n",
    "both_Y = np.vstack([probabilites.T,Y]).T\n",
    "both_Y[:,1] = abs(both_Y[:,1] - 0.5)\n",
    "both_Y_sorted = both_Y[both_Y[:, 1].argsort()][::-1]\n",
    "#print(both_Y_sorted)\n",
    "\n",
    "relevant = 0\n",
    "recommended = 0\n",
    "precision_k = [0 for i in range(10000)]\n",
    "for i in range(0,10000):\n",
    "    recommended += 1\n",
    "    if both_Y_sorted[i,0] > 0.5 and both_Y_sorted[i,2] < 4:\n",
    "        relevant += 1\n",
    "    if both_Y_sorted[i,0] < 0.5 and both_Y_sorted[i,2] >= 4:\n",
    "        relevant += 1\n",
    "    precision_k[i] = relevant/recommended\n",
    "    \n",
    "print(\"Precision@K for K = 1: \", str(precision_k[0]))\n",
    "print(\"Precision@K for K = 100: \", str(precision_k[99]))\n",
    "print(\"Precision@K for K = 10000: \", str(precision_k[9999]))\n",
    "\n",
    "plt.figure(figsize = (10,6))\n",
    "plt.scatter([i for i in range(10000)], precision_k)\n",
    "plt.xlabel(\"K\")\n",
    "plt.ylabel(\"Precision@K\")\n",
    "plt.show()\n"
   ]
  },
  {
   "cell_type": "code",
   "execution_count": null,
   "id": "14a577a8",
   "metadata": {},
   "outputs": [],
   "source": []
  }
 ],
 "metadata": {
  "kernelspec": {
   "display_name": "Python 3 (ipykernel)",
   "language": "python",
   "name": "python3"
  },
  "language_info": {
   "codemirror_mode": {
    "name": "ipython",
    "version": 3
   },
   "file_extension": ".py",
   "mimetype": "text/x-python",
   "name": "python",
   "nbconvert_exporter": "python",
   "pygments_lexer": "ipython3",
   "version": "3.9.1"
  }
 },
 "nbformat": 4,
 "nbformat_minor": 5
}
