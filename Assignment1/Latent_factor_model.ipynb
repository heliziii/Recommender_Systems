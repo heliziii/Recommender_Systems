{
 "cells": [
  {
   "cell_type": "code",
   "execution_count": 36,
   "id": "aefbcb34",
   "metadata": {},
   "outputs": [],
   "source": [
    "import gzip\n",
    "from collections import defaultdict\n",
    "import math\n",
    "import scipy.optimize\n",
    "from sklearn import svm\n",
    "import numpy\n",
    "import string\n",
    "import random\n",
    "import string\n",
    "from sklearn import linear_model\n",
    "import csv"
   ]
  },
  {
   "cell_type": "code",
   "execution_count": 37,
   "id": "98c7a68e",
   "metadata": {},
   "outputs": [],
   "source": [
    "def readGz(path):\n",
    "    for l in gzip.open(path, 'rt'):\n",
    "        yield eval(l)"
   ]
  },
  {
   "cell_type": "code",
   "execution_count": 38,
   "id": "536c063e",
   "metadata": {},
   "outputs": [],
   "source": [
    "def readCSV(path):\n",
    "    f = gzip.open(path, 'rt')\n",
    "    c = csv.reader(f)\n",
    "    header = next(c)\n",
    "    for l in c:\n",
    "        d = dict(zip(header,l))\n",
    "        yield d['user_id'],d['recipe_id'],d"
   ]
  },
  {
   "cell_type": "code",
   "execution_count": 39,
   "id": "639c0d3f",
   "metadata": {},
   "outputs": [],
   "source": [
    "allRatings = []\n",
    "userRatings = defaultdict(list)\n",
    "itemRatings = defaultdict(list)\n",
    "whole_data = []\n",
    "ratingDict = {}\n",
    "validRatingDict = {}\n",
    "recipesPerUser = defaultdict(list)\n",
    "usersPerRecipe = defaultdict(list)\n",
    "\n",
    "for user,recipe,d in readCSV(\"assignment1/trainInteractions.csv.gz\"):\n",
    "    whole_data.append((user, recipe, int(d['rating'])))\n",
    "\n",
    "train = whole_data[:400000]\n",
    "test = whole_data[400000:]\n",
    "\n",
    "for u,r,rate in whole_data:\n",
    "    allRatings.append(rate)\n",
    "    userRatings[u].append(rate)\n",
    "    itemRatings[r].append(rate)\n",
    "    ratingDict[(u,r)] = rate\n",
    "    recipesPerUser[u].append(r)\n",
    "    usersPerRecipe[r].append(u)\n",
    "    \n",
    "for u,r,rate in test:\n",
    "    validRatingDict[(u,r)] = rate"
   ]
  },
  {
   "cell_type": "code",
   "execution_count": 40,
   "id": "42bee9ab",
   "metadata": {},
   "outputs": [],
   "source": [
    "def iterate(alpha, beta_u, beta_i, L): \n",
    "    Ntrain = len(train)\n",
    "    alpha_num = 0\n",
    "    for u,i,d in train:\n",
    "            alpha_num += ratingDict[(u,i)] - (beta_u[u] + beta_i[i])\n",
    "    alpha_new = alpha_num/Ntrain\n",
    "    beta_u_new = {}\n",
    "    beta_i_new = {}\n",
    "    \n",
    "    for u in recipesPerUser:\n",
    "        beta_u_denom = L + len(recipesPerUser[u]) \n",
    "        beta_u_num = 0\n",
    "        for i in recipesPerUser[u]:\n",
    "            beta_u_num += ratingDict[(u,i)] - (alpha_new + beta_i[i])\n",
    "        beta_u_new[u] = beta_u_num/beta_u_denom\n",
    "    for i in usersPerRecipe:\n",
    "        beta_i_denom = L + len(usersPerRecipe[i]) \n",
    "        beta_i_num = 0\n",
    "        for u in usersPerRecipe[i]:\n",
    "            beta_i_num += ratingDict[(u,i)] - (alpha_new + beta_u[u])\n",
    "        beta_i_new[i] = beta_i_num/beta_i_denom\n",
    "    return alpha_new, beta_u_new, beta_i_new"
   ]
  },
  {
   "cell_type": "code",
   "execution_count": 41,
   "id": "1fa079f7",
   "metadata": {},
   "outputs": [],
   "source": [
    "def initialize(): \n",
    "    alpha = 3 \n",
    "    beta_u = {} \n",
    "    beta_i = {}\n",
    "    for u in recipesPerUser: \n",
    "        beta_u[u] = 3\n",
    "    for i in usersPerRecipe: \n",
    "        beta_i[i] = 3\n",
    "    return alpha, beta_u, beta_i"
   ]
  },
  {
   "cell_type": "code",
   "execution_count": 42,
   "id": "9f74dc74",
   "metadata": {},
   "outputs": [],
   "source": [
    "def getValidMSE(alpha, beta_u, beta_i): \n",
    "    se = 0\n",
    "    for u,i in validRatingDict: \n",
    "        f_ui = alpha\n",
    "        if u in beta_u:\n",
    "            f_ui += beta_u[u]\n",
    "        if i in beta_i:\n",
    "            f_ui += beta_i[i]\n",
    "        se += (validRatingDict[(u,i)] - f_ui)**2 \n",
    "        rmse = se/len(validRatingDict)\n",
    "    return rmse\n",
    "\n",
    "def getTrainMSE(alpha, beta_u, beta_i): \n",
    "    se = 0\n",
    "    for u,i in ratingDict:\n",
    "        f_ui = alpha + beta_u[u] + beta_i[i] \n",
    "        se += (ratingDict[(u,i)] - f_ui)**2\n",
    "\n",
    "    rmse = se/len(ratingDict) \n",
    "    return rmse"
   ]
  },
  {
   "cell_type": "code",
   "execution_count": 43,
   "id": "e23f57bc",
   "metadata": {},
   "outputs": [],
   "source": [
    "def iterateWrapper(L):\n",
    "    alpha, beta_u, beta_i = initialize()\n",
    "    mse = getTrainMSE(alpha, beta_u, beta_i) \n",
    "    diff = 500\n",
    "    while diff >= 0.0001:\n",
    "        alpha_new, beta_u_new, beta_i_new = iterate(alpha, beta_u, beta_i, L)\n",
    "        mse_new = getTrainMSE(alpha_new, beta_u_new, beta_i_new)\n",
    "        diff = abs(mse - mse_new)\n",
    "        mse = mse_new\n",
    "        print(\"MSE: \", mse)\n",
    "        validMSE = getValidMSE(alpha_new, beta_u_new, beta_i_new)\n",
    "        print(\"Validation MSE: \", validMSE)\n",
    "        alpha, beta_u, beta_i = alpha_new, beta_u_new, beta_i_new\n",
    "    return alpha, beta_u, beta_i, mse, validMSE"
   ]
  },
  {
   "cell_type": "code",
   "execution_count": 46,
   "id": "c2d5ed06",
   "metadata": {},
   "outputs": [
    {
     "name": "stdout",
     "output_type": "stream",
     "text": [
      "MSE:  6.287727589149299\n",
      "Validation MSE:  6.279083287838342\n",
      "MSE:  2.0739771595118595\n",
      "Validation MSE:  2.070305972738066\n",
      "MSE:  1.1726468147935722\n",
      "Validation MSE:  1.172659570584092\n",
      "MSE:  0.9588857905911344\n",
      "Validation MSE:  0.961081714679422\n",
      "MSE:  0.8505280968146863\n",
      "Validation MSE:  0.8539737555670859\n",
      "MSE:  0.7982677343606122\n",
      "Validation MSE:  0.8025290548472335\n",
      "MSE:  0.7639259817244417\n",
      "Validation MSE:  0.768742271427195\n",
      "MSE:  0.7422340504651502\n",
      "Validation MSE:  0.7474542760373222\n",
      "MSE:  0.7271774671876241\n",
      "Validation MSE:  0.732703759747769\n",
      "MSE:  0.7168402213108115\n",
      "Validation MSE:  0.7226040319306197\n",
      "MSE:  0.7095524278344598\n",
      "Validation MSE:  0.7155060117474009\n",
      "MSE:  0.7044282617178887\n",
      "Validation MSE:  0.7105345122117739\n",
      "MSE:  0.7008020731237313\n",
      "Validation MSE:  0.7070333658400045\n",
      "MSE:  0.698240960967449\n",
      "Validation MSE:  0.7045748919502791\n",
      "MSE:  0.696432490026909\n",
      "Validation MSE:  0.7028515422756826\n",
      "MSE:  0.6951595091781869\n",
      "Validation MSE:  0.701649245485844\n",
      "MSE:  0.6942665472219941\n",
      "Validation MSE:  0.700815323269241\n",
      "MSE:  0.6936434125351122\n",
      "Validation MSE:  0.7002415593433268\n",
      "MSE:  0.6932113668443542\n",
      "Validation MSE:  0.699850939792005\n",
      "MSE:  0.6929143559720846\n",
      "Validation MSE:  0.6995887259288339\n",
      "MSE:  0.6927124120775502\n",
      "Validation MSE:  0.6994160714061615\n",
      "MSE:  0.6925771125840123\n",
      "Validation MSE:  0.6993054479561228\n",
      "MSE:  0.6924882651639486\n",
      "Validation MSE:  0.699237417424777\n"
     ]
    }
   ],
   "source": [
    "alpha, beta_u, beta_i, mse, validMSE = iterateWrapper(L=11)"
   ]
  },
  {
   "cell_type": "code",
   "execution_count": 47,
   "id": "7b0d3384",
   "metadata": {},
   "outputs": [],
   "source": [
    "predictions = open(\"predictions_Rated.txt\", 'w') \n",
    "for l in open(\"assignment1/stub_Rated.txt\"):\n",
    "    if l.startswith(\"user_id\"): #header\n",
    "        predictions.write(l)\n",
    "        continue\n",
    "    u,i = l.strip().split('-') \n",
    "    f_ui = alpha\n",
    "    if u in beta_u:\n",
    "        f_ui += beta_u[u]\n",
    "\n",
    "    if i in beta_i:\n",
    "        f_ui += beta_i[i]\n",
    "    predictions.write(u + '-' + i + ',' + str(f_ui) + '\\n') \n",
    "predictions.close()"
   ]
  },
  {
   "cell_type": "code",
   "execution_count": null,
   "id": "e2f97d69",
   "metadata": {},
   "outputs": [],
   "source": []
  }
 ],
 "metadata": {
  "kernelspec": {
   "display_name": "Python 3 (ipykernel)",
   "language": "python",
   "name": "python3"
  },
  "language_info": {
   "codemirror_mode": {
    "name": "ipython",
    "version": 3
   },
   "file_extension": ".py",
   "mimetype": "text/x-python",
   "name": "python",
   "nbconvert_exporter": "python",
   "pygments_lexer": "ipython3",
   "version": "3.9.1"
  }
 },
 "nbformat": 4,
 "nbformat_minor": 5
}
