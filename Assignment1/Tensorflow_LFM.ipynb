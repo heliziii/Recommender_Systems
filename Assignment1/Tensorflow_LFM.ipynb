{
 "cells": [
  {
   "cell_type": "code",
   "execution_count": 128,
   "id": "9be6af1a",
   "metadata": {},
   "outputs": [],
   "source": [
    "import gzip\n",
    "import random\n",
    "import scipy\n",
    "import tensorflow as tf\n",
    "from collections import defaultdict\n",
    "import csv"
   ]
  },
  {
   "cell_type": "code",
   "execution_count": 129,
   "id": "8471ad63",
   "metadata": {},
   "outputs": [],
   "source": [
    "def readGz(path):\n",
    "    for l in gzip.open(path, 'rt'):\n",
    "        yield eval(l)\n",
    "def readCSV(path):\n",
    "    f = gzip.open(path, 'rt')\n",
    "    c = csv.reader(f)\n",
    "    header = next(c)\n",
    "    for l in c:\n",
    "        d = dict(zip(header,l))\n",
    "        yield d['user_id'],d['recipe_id'],d['rating']"
   ]
  },
  {
   "cell_type": "code",
   "execution_count": 130,
   "id": "f956f476",
   "metadata": {},
   "outputs": [],
   "source": [
    "interactions = []\n",
    "for l in readCSV(\"assignment1/trainInteractions.csv.gz\"):\n",
    "    interactions.append(l)"
   ]
  },
  {
   "cell_type": "code",
   "execution_count": 131,
   "id": "56b48209",
   "metadata": {},
   "outputs": [
    {
     "data": {
      "text/plain": [
       "500000"
      ]
     },
     "execution_count": 131,
     "metadata": {},
     "output_type": "execute_result"
    }
   ],
   "source": [
    "random.shuffle(interactions)\n",
    "len(interactions)"
   ]
  },
  {
   "cell_type": "code",
   "execution_count": 132,
   "id": "208a1a9c",
   "metadata": {},
   "outputs": [],
   "source": [
    "nTrain = int(len(interactions) * 0.9)\n",
    "nTest = len(interactions) - nTrain\n",
    "interactionsTrain = interactions[:nTrain]\n",
    "interactionsTest = interactions[nTrain:]"
   ]
  },
  {
   "cell_type": "code",
   "execution_count": 133,
   "id": "54ebdb36",
   "metadata": {},
   "outputs": [],
   "source": [
    "itemsPerUser = defaultdict(list)\n",
    "usersPerItem = defaultdict(list)\n",
    "userIDs,itemIDs = {},{}\n",
    "for u,i,r in interactions:\n",
    "    if not u in userIDs: userIDs[u] = len(userIDs)\n",
    "    if not i in itemIDs: itemIDs[i] = len(itemIDs)\n",
    "    itemsPerUser[u].append(i)\n",
    "    usersPerItem[i].append(u)"
   ]
  },
  {
   "cell_type": "code",
   "execution_count": 134,
   "id": "98cb70c5",
   "metadata": {},
   "outputs": [],
   "source": [
    "mu = sum([int(r) for _,_,r in interactionsTrain]) / len(interactionsTrain)"
   ]
  },
  {
   "cell_type": "code",
   "execution_count": 135,
   "id": "23dcaab2",
   "metadata": {},
   "outputs": [],
   "source": [
    "optimizer = tf.keras.optimizers.Adam(0.1)"
   ]
  },
  {
   "cell_type": "code",
   "execution_count": 136,
   "id": "9f07c2e8",
   "metadata": {},
   "outputs": [],
   "source": [
    "class LatentFactorModel(tf.keras.Model):\n",
    "    def __init__(self, mu, K, lamb):\n",
    "        super(LatentFactorModel, self).__init__()\n",
    "        # Initialize to average\n",
    "        self.alpha = tf.Variable(mu)\n",
    "        # Initialize to small random values\n",
    "        self.betaU = tf.Variable(tf.random.normal([len(userIDs)],stddev=0.001))\n",
    "        self.betaI = tf.Variable(tf.random.normal([len(itemIDs)],stddev=0.001))\n",
    "        self.gammaU = tf.Variable(tf.random.normal([len(userIDs),K],stddev=0.001))\n",
    "        self.gammaI = tf.Variable(tf.random.normal([len(itemIDs),K],stddev=0.001))\n",
    "        self.lamb = lamb\n",
    "\n",
    "    # Prediction for a single instance (useful for evaluation)\n",
    "    def predict(self, u, i):\n",
    "        if (u == -5) and (i == -5):\n",
    "            return self.alpha\n",
    "        if u == -5:\n",
    "            return self.alpha + self.betaI[i]\n",
    "        if i == -5:\n",
    "            return self.alpha + self.betaU[u]\n",
    "        p = self.alpha + self.betaU[u] + self.betaI[i] +\\\n",
    "            tf.tensordot(self.gammaU[u], self.gammaI[i], 1)\n",
    "        return p\n",
    "\n",
    "    # Regularizer\n",
    "    def reg(self):\n",
    "        return self.lamb * (tf.reduce_sum(self.betaU**2) +\\\n",
    "                            tf.reduce_sum(self.betaI**2) +\\\n",
    "                            tf.reduce_sum(self.gammaU**2) +\\\n",
    "                            tf.reduce_sum(self.gammaI**2))\n",
    "    \n",
    "    # Prediction for a sample of instances\n",
    "    def predictSample(self, sampleU, sampleI):\n",
    "        u = tf.convert_to_tensor(sampleU, dtype=tf.int32)\n",
    "        i = tf.convert_to_tensor(sampleI, dtype=tf.int32)\n",
    "        beta_u = tf.nn.embedding_lookup(self.betaU, u)\n",
    "        beta_i = tf.nn.embedding_lookup(self.betaI, i)\n",
    "        gamma_u = tf.nn.embedding_lookup(self.gammaU, u)\n",
    "        gamma_i = tf.nn.embedding_lookup(self.gammaI, i)\n",
    "        pred = self.alpha + beta_u + beta_i +\\\n",
    "               tf.reduce_sum(tf.multiply(gamma_u, gamma_i), 1)\n",
    "        return pred\n",
    "    \n",
    "    # Loss\n",
    "    def call(self, sampleU, sampleI, sampleR):\n",
    "        pred = self.predictSample(sampleU, sampleI)\n",
    "        r = tf.convert_to_tensor(sampleR, dtype=tf.float32)\n",
    "        return tf.nn.l2_loss(pred - r) / len(sampleR)"
   ]
  },
  {
   "cell_type": "code",
   "execution_count": 140,
   "id": "1c053502",
   "metadata": {},
   "outputs": [],
   "source": [
    "models = []\n",
    "for K in [50]:\n",
    "    for lambda_ in [0.0001]:\n",
    "        models.append(LatentFactorModel(mu, K, lambda_))"
   ]
  },
  {
   "cell_type": "code",
   "execution_count": 141,
   "id": "26dce525",
   "metadata": {},
   "outputs": [],
   "source": [
    "def trainingStep(model, interactions):\n",
    "    Nsamples = 50000\n",
    "    with tf.GradientTape() as tape:\n",
    "        sampleU, sampleI, sampleR = [], [], []\n",
    "        for _ in range(Nsamples):\n",
    "            u,i,r = random.choice(interactions)\n",
    "            sampleU.append(userIDs[u])\n",
    "            sampleI.append(itemIDs[i])\n",
    "            sampleR.append(int(r))\n",
    "\n",
    "        loss = model(sampleU,sampleI,sampleR)\n",
    "        loss += model.reg()\n",
    "    gradients = tape.gradient(loss, model.trainable_variables)\n",
    "    optimizer.apply_gradients((grad, var) for\n",
    "                              (grad, var) in zip(gradients, model.trainable_variables)\n",
    "                              if grad is not None)\n",
    "    return loss.numpy()"
   ]
  },
  {
   "cell_type": "code",
   "execution_count": 142,
   "id": "9dfbbefe",
   "metadata": {},
   "outputs": [
    {
     "name": "stdout",
     "output_type": "stream",
     "text": [
      "-----\n",
      "iteration 10, objective = 0.45854414\n",
      "iteration 20, objective = 0.46706083\n",
      "iteration 30, objective = 0.46305022\n",
      "iteration 40, objective = 0.46089146\n",
      "iteration 50, objective = 0.46045536\n",
      "iteration 60, objective = 0.4376474\n",
      "iteration 70, objective = 0.44939116\n",
      "iteration 80, objective = 0.45474106\n",
      "iteration 90, objective = 0.47012612\n",
      "iteration 100, objective = 0.44837886\n",
      "iteration 110, objective = 0.46306804\n",
      "iteration 120, objective = 0.45422488\n",
      "iteration 130, objective = 0.45469826\n",
      "iteration 140, objective = 0.43750662\n",
      "iteration 150, objective = 0.4530614\n",
      "iteration 160, objective = 0.45123932\n",
      "iteration 170, objective = 0.4516597\n",
      "iteration 180, objective = 0.45717004\n",
      "iteration 190, objective = 0.45294148\n",
      "iteration 200, objective = 0.43435368\n",
      "iteration 210, objective = 0.45474082\n",
      "iteration 220, objective = 0.44722545\n",
      "iteration 230, objective = 0.45162982\n",
      "iteration 240, objective = 0.45476252\n",
      "iteration 250, objective = 0.4579763\n",
      "iteration 260, objective = 0.4425095\n",
      "iteration 270, objective = 0.44978905\n",
      "iteration 280, objective = 0.44995856\n",
      "iteration 290, objective = 0.4542496\n",
      "iteration 300, objective = 0.44440323\n",
      "iteration 310, objective = 0.4484736\n",
      "iteration 320, objective = 0.45349696\n",
      "iteration 330, objective = 0.44891924\n",
      "iteration 340, objective = 0.44536707\n",
      "iteration 350, objective = 0.45401385\n",
      "iteration 360, objective = 0.45969465\n",
      "iteration 370, objective = 0.45526972\n",
      "iteration 380, objective = 0.45172513\n",
      "iteration 390, objective = 0.4477896\n",
      "iteration 400, objective = 0.45372\n",
      "iteration 410, objective = 0.45597336\n",
      "iteration 420, objective = 0.45263767\n",
      "iteration 430, objective = 0.4453197\n",
      "iteration 440, objective = 0.45563218\n",
      "iteration 450, objective = 0.43578073\n",
      "iteration 460, objective = 0.44659275\n",
      "iteration 470, objective = 0.44940105\n",
      "iteration 480, objective = 0.44864815\n",
      "iteration 490, objective = 0.449573\n",
      "iteration 500, objective = 0.44607794\n"
     ]
    }
   ],
   "source": [
    "for model in models:\n",
    "    print('-----')\n",
    "    for i in range(500):\n",
    "        obj = trainingStep(model, interactions)\n",
    "        if (i % 10 == 9): print(\"iteration \" + str(i+1) + \", objective = \" + str(obj))\n",
    "#     predicted = []\n",
    "#     labels = []\n",
    "#     for u,i,r in interactionsTest:\n",
    "#         uID = -5\n",
    "#         iID = -5\n",
    "#         if u in userIDs:\n",
    "#             uID = userIDs[u]\n",
    "#         if i in itemIDs:\n",
    "#             iID = itemIDs[i]\n",
    "#         predicted.append(model.predict(uID, iID).numpy())\n",
    "#         labels.append(int(r))\n",
    "#     print(MSE(predicted,labels))"
   ]
  },
  {
   "cell_type": "code",
   "execution_count": 13,
   "id": "b1194376",
   "metadata": {},
   "outputs": [],
   "source": [
    "def MSE(predictions, labels):\n",
    "    differences = [(x-y)**2 for x,y in zip(predictions,labels)]\n",
    "    return sum(differences) / len(differences)"
   ]
  },
  {
   "cell_type": "code",
   "execution_count": 78,
   "id": "9788d992",
   "metadata": {},
   "outputs": [],
   "source": []
  },
  {
   "cell_type": "code",
   "execution_count": 80,
   "id": "1d962a22",
   "metadata": {},
   "outputs": [
    {
     "data": {
      "text/plain": [
       "0.827023822065572"
      ]
     },
     "execution_count": 80,
     "metadata": {},
     "output_type": "execute_result"
    }
   ],
   "source": [
    "MSE(predicted,labels)\n"
   ]
  },
  {
   "cell_type": "code",
   "execution_count": 143,
   "id": "b193f1d2",
   "metadata": {},
   "outputs": [],
   "source": [
    "predictions = open(\"predictions_Rated_tensorflow.txt\", 'w')\n",
    "for l in open(\"assignment1/stub_Rated.txt\"):\n",
    "    if l.startswith(\"user_id\"):\n",
    "        #header\n",
    "        predictions.write(l)\n",
    "        continue\n",
    "    u,i = l.strip().split('-')\n",
    "    uID = -5\n",
    "    iID = -5\n",
    "    if u in userIDs:\n",
    "        uID = userIDs[u]\n",
    "    if i in itemIDs:\n",
    "        iID = itemIDs[i]\n",
    "    num = models[0].predict(uID, iID).numpy()\n",
    "    prediction = min(num,5)\n",
    "    predictions.write(u + '-' + i + ',' + str(prediction) + '\\n')\n",
    "\n",
    "    \n",
    "\n",
    "predictions.close()"
   ]
  },
  {
   "cell_type": "code",
   "execution_count": null,
   "id": "76f57f53",
   "metadata": {},
   "outputs": [],
   "source": []
  }
 ],
 "metadata": {
  "kernelspec": {
   "display_name": "Python 3 (ipykernel)",
   "language": "python",
   "name": "python3"
  },
  "language_info": {
   "codemirror_mode": {
    "name": "ipython",
    "version": 3
   },
   "file_extension": ".py",
   "mimetype": "text/x-python",
   "name": "python",
   "nbconvert_exporter": "python",
   "pygments_lexer": "ipython3",
   "version": "3.9.1"
  }
 },
 "nbformat": 4,
 "nbformat_minor": 5
}
