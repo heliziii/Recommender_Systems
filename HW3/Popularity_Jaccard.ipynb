{
 "cells": [
  {
   "cell_type": "code",
   "execution_count": 176,
   "id": "7e28cfb4",
   "metadata": {},
   "outputs": [],
   "source": [
    "import numpy as np\n",
    "import pandas as pd\n",
    "import gzip\n",
    "from collections import defaultdict\n",
    "from sklearn import linear_model\n",
    "import csv\n",
    "import random"
   ]
  },
  {
   "cell_type": "code",
   "execution_count": 177,
   "id": "7255fc0d",
   "metadata": {},
   "outputs": [],
   "source": [
    "##reading data\n",
    "\n",
    "def readGz(path):\n",
    "    for l in gzip.open(path, 'rt'):\n",
    "        yield eval(l)\n",
    "\n",
    "def readCSV(path):\n",
    "    f = gzip.open(path, 'rt')\n",
    "    c = csv.reader(f)\n",
    "    header = next(c)\n",
    "    for l in c:\n",
    "        d = dict(zip(header,l))\n",
    "        yield d['user_id'],d['recipe_id'],d"
   ]
  },
  {
   "cell_type": "code",
   "execution_count": 178,
   "id": "c72b36ec",
   "metadata": {},
   "outputs": [],
   "source": [
    "##Q1\n",
    "\n",
    "recipeCount = defaultdict(int)\n",
    "totalCooked = 0\n",
    "user_cooked = defaultdict(list)\n",
    "\n",
    "train_set = []\n",
    "validation_set = []\n",
    "all_recipes = set()\n",
    "\n",
    "for user,recipe,_ in readCSV(\"trainInteractions.csv.gz\"):\n",
    "    totalCooked += 1\n",
    "    all_recipes.add(recipe)\n",
    "    user_cooked[user].append(recipe)\n",
    "    if totalCooked < 400000:\n",
    "        recipeCount[recipe] += 1\n",
    "        train_set.append((user,recipe))\n",
    "    if totalCooked >= 400000:\n",
    "        validation_set.append((user,recipe,1))\n",
    "\n",
    "all_recipes_list = list(all_recipes)\n",
    "for i in range(100001):\n",
    "    recipe = validation_set[i][1]\n",
    "    user = validation_set[i][0]\n",
    "    not_found = 1\n",
    "    while not_found:\n",
    "        recipe_ =  random.sample(all_recipes_list,1)\n",
    "        recipe_ = recipe_[0]\n",
    "        if recipe_ not in user_cooked[user]:\n",
    "            validation_set.append((user,recipe_,0))\n",
    "            user_cooked[user].append(recipe_)\n",
    "            not_found = 0\n"
   ]
  },
  {
   "cell_type": "code",
   "execution_count": 180,
   "id": "e601e077",
   "metadata": {},
   "outputs": [
    {
     "name": "stdout",
     "output_type": "stream",
     "text": [
      "Accuracy on validation set = 0.6739332606673933\n"
     ]
    }
   ],
   "source": [
    "mostPopular = [(recipeCount[x], x) for x in recipeCount]\n",
    "mostPopular.sort()\n",
    "mostPopular.reverse()\n",
    "\n",
    "return1 = set()\n",
    "count = 0\n",
    "for ic, i in mostPopular:\n",
    "    count += ic\n",
    "    return1.add(i)\n",
    "    if count > totalCooked/2: break\n",
    "\n",
    "first_half = [val[1] for val in validation_set[0:100001]]\n",
    "second_half = [val[1] for val in validation_set[100001:]]\n",
    "\n",
    "TP = TN = 0\n",
    "for recipe in first_half:\n",
    "    if recipe in return1:\n",
    "        TP += 1\n",
    "for recipe in second_half:\n",
    "    if recipe not in return1:\n",
    "        TN += 1\n",
    "print(\"Accuracy on validation set = \" + str((TP+TN)/len(validation_set)))"
   ]
  },
  {
   "cell_type": "code",
   "execution_count": 182,
   "id": "86e58a6a",
   "metadata": {},
   "outputs": [
    {
     "name": "stdout",
     "output_type": "stream",
     "text": [
      "2.11 0.6758182418175819\n"
     ]
    }
   ],
   "source": [
    "##Q2\n",
    "\n",
    "def choose_threshold(threshold):\n",
    "    return1 = set()\n",
    "    count = 0\n",
    "    for ic, i in mostPopular:\n",
    "        count += ic\n",
    "        return1.add(i)\n",
    "        if count > totalCooked/threshold: break\n",
    "\n",
    "    first_half = [val[1] for val in validation_set[0:100001]]\n",
    "    second_half = [val[1] for val in validation_set[100001:]]\n",
    "\n",
    "    correct = 0\n",
    "    for recipe in first_half:\n",
    "        if recipe in return1:\n",
    "            correct += 1\n",
    "    for recipe in second_half:\n",
    "        if recipe not in return1:\n",
    "            correct += 1\n",
    "    return correct/len(validation_set)\n",
    "\n",
    "max_val = 0\n",
    "choosen_val = 0\n",
    "for value in range(150,220):\n",
    "    val = value/100\n",
    "    acc = choose_threshold(val)\n",
    "    if acc > max_val:\n",
    "        max_val = acc\n",
    "        choosen_val = val\n",
    "print(choosen_val, max_val)"
   ]
  },
  {
   "cell_type": "markdown",
   "id": "cbf7c717",
   "metadata": {},
   "source": [
    "Top 47% leads to higher accuracy of 0.6758."
   ]
  },
  {
   "cell_type": "code",
   "execution_count": 183,
   "id": "2f55b134",
   "metadata": {},
   "outputs": [],
   "source": [
    "##Q3\n",
    "\n",
    "def Jaccard(set1,set2):\n",
    "    return len(set1.intersection(set2))/len(set1.union(set2))\n",
    "\n",
    "recipes_per_user = defaultdict(list)\n",
    "users_per_recipe = defaultdict(list)\n",
    "\n",
    "for pair in train_set:\n",
    "    recipes_per_user[pair[0]].append(pair[1])\n",
    "    users_per_recipe[pair[1]].append(pair[0])\n",
    "\n",
    "max_values = []\n",
    "for pair in validation_set:\n",
    "    made_recipes = recipes_per_user[pair[0]]\n",
    "    query_recipe = pair[1]\n",
    "    max_sim = 0\n",
    "    for recipe in made_recipes:\n",
    "        if recipe == query_recipe:\n",
    "            continue\n",
    "        jaccard = Jaccard(set(users_per_recipe[recipe]), set(users_per_recipe[query_recipe]))\n",
    "        if jaccard > max_sim:\n",
    "            max_sim = jaccard\n",
    "    max_values.append(max_sim)"
   ]
  },
  {
   "cell_type": "code",
   "execution_count": 184,
   "id": "5c5cc252",
   "metadata": {},
   "outputs": [
    {
     "name": "stdout",
     "output_type": "stream",
     "text": [
      "0.594119058809412 0.011\n"
     ]
    }
   ],
   "source": [
    "def jaccard_threshold(threshold):\n",
    "    values = [val[2] for val in validation_set]\n",
    "    correct = 0\n",
    "    for i in range(len(values)):\n",
    "        if (max_values[i] > threshold) and (values[i] == 1):\n",
    "            correct += 1\n",
    "        elif (max_values[i] < threshold) and (values[i] == 0):\n",
    "            correct += 1\n",
    "    return correct/len(validation_set)\n",
    "\n",
    "max_threshold = 0\n",
    "threshold = 0        \n",
    "for i in range(0,100):\n",
    "    val = i/1000\n",
    "    accu = jaccard_threshold(val)\n",
    "    if accu > max_threshold:\n",
    "        max_threshold = accu\n",
    "        threshold = val\n",
    "print(max_threshold,threshold)\n",
    "        "
   ]
  },
  {
   "cell_type": "markdown",
   "id": "b0ab6547",
   "metadata": {},
   "source": [
    "The threshold for highest accuracy is 0.011. And the accuracy for this threshold is 0.59. "
   ]
  },
  {
   "cell_type": "code",
   "execution_count": 185,
   "id": "48a3da48",
   "metadata": {},
   "outputs": [
    {
     "name": "stdout",
     "output_type": "stream",
     "text": [
      "Accuracy for combination of two models is = 0.6580534194658053\n"
     ]
    }
   ],
   "source": [
    "##Q4\n",
    "\n",
    "return1 = set()\n",
    "count = 0\n",
    "for ic, i in mostPopular:\n",
    "    count += ic\n",
    "    return1.add(i)\n",
    "    if count > totalCooked/2: break\n",
    "            \n",
    "values = [val[2] for val in validation_set]\n",
    "recipes = [val[1] for val in validation_set]\n",
    "correct = 0\n",
    "for i in range(len(values)):\n",
    "    if ((max_values[i] >= 0.011) and (recipes[i] in return1) and (values[i] == 1)):\n",
    "        correct += 1\n",
    "    elif (((max_values[i] < 0.011) or (recipes[i] not in return1)) and (values[i] == 0)):\n",
    "        correct += 1\n",
    "        \n",
    "print(\"Accuracy for combination of two models is = \" + str(correct/len(values)))"
   ]
  },
  {
   "cell_type": "code",
   "execution_count": 174,
   "id": "37d6f01d",
   "metadata": {},
   "outputs": [],
   "source": [
    "##Q5\n",
    "\n",
    "for user,recipe,_ in readCSV(\"trainInteractions.csv.gz\"):\n",
    "    totalCooked += 1\n",
    "    all_recipes.add(recipe)\n",
    "    user_cooked[user].append(recipe)\n",
    "    recipeCount[recipe] += 1\n",
    "    train_set.append((user,recipe))\n",
    "    \n",
    "for pair in train_set:\n",
    "    recipes_per_user[pair[0]].append(pair[1])\n",
    "    users_per_recipe[pair[1]].append(pair[0])\n",
    "    \n",
    "mostPopular = [(recipeCount[x], x) for x in recipeCount]\n",
    "mostPopular.sort()\n",
    "mostPopular.reverse()\n",
    "\n",
    "return1 = set()\n",
    "count = 0\n",
    "for ic, i in mostPopular:\n",
    "    count += ic\n",
    "    return1.add(i)\n",
    "    if count > totalCooked/2: break\n",
    "        \n",
    "        \n",
    "predictions = open(\"predictions_Made.txt\", 'w')\n",
    "for l in open(\"stub_Made.txt\"):\n",
    "    if l.startswith(\"user_id\"):\n",
    "        #header\n",
    "        predictions.write(l)\n",
    "        continue\n",
    "    u,i = l.strip().split('-')\n",
    "    made_recipes = recipes_per_user[u]\n",
    "    max_sim = 0\n",
    "    for recipe in made_recipes:\n",
    "        if recipe == i:\n",
    "            continue\n",
    "        jaccard = Jaccard(set(users_per_recipe[recipe]), set(users_per_recipe[i]))\n",
    "        if jaccard > max_sim:\n",
    "            max_sim = jaccard\n",
    "    if (max_sim > 0.012) and (i in return1):\n",
    "        predictions.write(u + '-' + i + \",1\\n\")\n",
    "    elif (max_sim < 0.012) or (i not in return1):\n",
    "        predictions.write(u + '-' + i + \",0\\n\")\n",
    "    \n",
    "\n",
    "predictions.close()"
   ]
  },
  {
   "cell_type": "code",
   "execution_count": 175,
   "id": "eccf5318",
   "metadata": {},
   "outputs": [],
   "source": [
    "predictions = open(\"predictions_Made_q2.txt\", 'w')\n",
    "for l in open(\"stub_Made.txt\"):\n",
    "    if l.startswith(\"user_id\"):\n",
    "        #header\n",
    "        predictions.write(l)\n",
    "        continue\n",
    "    u,i = l.strip().split('-')\n",
    "    if (i in return1):\n",
    "        predictions.write(u + '-' + i + \",1\\n\")\n",
    "    else:\n",
    "        predictions.write(u + '-' + i + \",0\\n\")\n",
    "    \n",
    "\n",
    "predictions.close()"
   ]
  },
  {
   "cell_type": "markdown",
   "id": "b843fb21",
   "metadata": {},
   "source": [
    "Using only popularity model leads to higher accuracy on Kaggle. Kaggle username is \"helizi\""
   ]
  },
  {
   "cell_type": "code",
   "execution_count": null,
   "id": "56b94281",
   "metadata": {},
   "outputs": [],
   "source": []
  }
 ],
 "metadata": {
  "kernelspec": {
   "display_name": "Python 3 (ipykernel)",
   "language": "python",
   "name": "python3"
  },
  "language_info": {
   "codemirror_mode": {
    "name": "ipython",
    "version": 3
   },
   "file_extension": ".py",
   "mimetype": "text/x-python",
   "name": "python",
   "nbconvert_exporter": "python",
   "pygments_lexer": "ipython3",
   "version": "3.9.1"
  }
 },
 "nbformat": 4,
 "nbformat_minor": 5
}
